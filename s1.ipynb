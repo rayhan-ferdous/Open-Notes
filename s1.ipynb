{
  "nbformat": 4,
  "nbformat_minor": 0,
  "metadata": {
    "colab": {
      "name": "s1.ipynb",
      "provenance": [],
      "authorship_tag": "ABX9TyOAU09uvIhRBl2dJTpL5Suj"
    },
    "kernelspec": {
      "name": "python3",
      "display_name": "Python 3"
    }
  },
  "cells": [
    {
      "cell_type": "code",
      "metadata": {
        "id": "2FHbU0w9sTQ3"
      },
      "source": [
        "# TensorFlow hello world\r\n",
        "from tensorflow import keras\r\n",
        "import numpy as np\r\n"
      ],
      "execution_count": 1,
      "outputs": []
    },
    {
      "cell_type": "code",
      "metadata": {
        "id": "FP5scQPotSRD"
      },
      "source": [
        "# input data\r\n",
        "xs = np.array(\r\n",
        "    [1,2,3,1,2,5,6],\r\n",
        "    dtype=float\r\n",
        ")\r\n",
        "\r\n",
        "# output data\r\n",
        "ys = np.array(\r\n",
        "    [3,4,2,5,6,5,3],\r\n",
        "    dtype=float\r\n",
        ")"
      ],
      "execution_count": null,
      "outputs": []
    },
    {
      "cell_type": "code",
      "metadata": {
        "colab": {
          "base_uri": "https://localhost:8080/"
        },
        "id": "wd2VDG3etYOf",
        "outputId": "215e6252-a8ac-471a-aea8-2bd5ebeb5f5e"
      },
      "source": [
        "# model defining\r\n",
        "model = keras.Sequential(\r\n",
        "    layers=[\r\n",
        "        keras.layers.Dense(units=1, input_shape=[1])\r\n",
        "    ]\r\n",
        ")\r\n",
        "\r\n",
        "# model compiling\r\n",
        "model.compile(\r\n",
        "    optimizer='sgd',\r\n",
        "    loss='mean_squared_error'\r\n",
        ")\r\n",
        "\r\n",
        "# model fitting\r\n",
        "model.fit(xs, ys, epochs=10)"
      ],
      "execution_count": null,
      "outputs": [
        {
          "output_type": "stream",
          "text": [
            "Epoch 1/10\n",
            "1/1 [==============================] - 0s 413ms/step - loss: 7.7100\n",
            "Epoch 2/10\n",
            "1/1 [==============================] - 0s 3ms/step - loss: 7.3428\n",
            "Epoch 3/10\n",
            "1/1 [==============================] - 0s 3ms/step - loss: 7.1087\n",
            "Epoch 4/10\n",
            "1/1 [==============================] - 0s 3ms/step - loss: 6.9511\n",
            "Epoch 5/10\n",
            "1/1 [==============================] - 0s 4ms/step - loss: 6.8376\n",
            "Epoch 6/10\n",
            "1/1 [==============================] - 0s 3ms/step - loss: 6.7496\n",
            "Epoch 7/10\n",
            "1/1 [==============================] - 0s 7ms/step - loss: 6.6764\n",
            "Epoch 8/10\n",
            "1/1 [==============================] - 0s 6ms/step - loss: 6.6119\n",
            "Epoch 9/10\n",
            "1/1 [==============================] - 0s 6ms/step - loss: 6.5528\n",
            "Epoch 10/10\n",
            "1/1 [==============================] - 0s 4ms/step - loss: 6.4968\n"
          ],
          "name": "stdout"
        },
        {
          "output_type": "execute_result",
          "data": {
            "text/plain": [
              "<tensorflow.python.keras.callbacks.History at 0x7f771968b908>"
            ]
          },
          "metadata": {
            "tags": []
          },
          "execution_count": 4
        }
      ]
    },
    {
      "cell_type": "code",
      "metadata": {
        "colab": {
          "base_uri": "https://localhost:8080/"
        },
        "id": "Oo5-mhjEtcFJ",
        "outputId": "b7c28946-3828-4da1-c0c2-7685e0d1a5fa"
      },
      "source": [
        "# predicting\r\n",
        "print(model.predict([90]))"
      ],
      "execution_count": null,
      "outputs": [
        {
          "output_type": "stream",
          "text": [
            "[[81.35573]]\n"
          ],
          "name": "stdout"
        }
      ]
    }
  ]
}